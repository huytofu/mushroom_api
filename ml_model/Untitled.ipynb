{
 "cells": [
  {
   "cell_type": "code",
   "execution_count": 10,
   "metadata": {},
   "outputs": [],
   "source": [
    "import numpy as np\n",
    "import sklearn as skl\n",
    "import pandas as pd\n",
    "import itertools"
   ]
  },
  {
   "cell_type": "code",
   "execution_count": 11,
   "metadata": {},
   "outputs": [],
   "source": [
    "def process_raw_data():    \n",
    "    df = pd.read_csv('mushrooms.csv')\n",
    "    df.dropna(inplace=True)\n",
    "    df_class = df['class']\n",
    "    df_features = df.drop(labels=['class'], axis=1)\n",
    "\n",
    "    df_one_hot_class = pd.get_dummies(df_class, drop_first=True)\n",
    "    df_one_hot_features = pd.get_dummies(df_features, drop_first=True)\n",
    "    return df_one_hot_class, df_one_hot_features"
   ]
  },
  {
   "cell_type": "code",
   "execution_count": 12,
   "metadata": {},
   "outputs": [],
   "source": [
    "def exclude_correlated_attributes(df_one_hot_features):\n",
    "    columns_dropped = []\n",
    "    correlated = True\n",
    "    \n",
    "    while correlated:\n",
    "        correlated = False\n",
    "        mymatrix = df_one_hot_features.corr()\n",
    "        curr_columns = df_one_hot_features.columns\n",
    "        num_col = len(curr_columns)\n",
    "        \n",
    "        for i, j in itertools.combinations_with_replacement(range(num_col),2):\n",
    "            if i<j and mymatrix.iloc[i][j] >= 0.75:\n",
    "                correlated = True\n",
    "                to_drop = curr_columns[i]\n",
    "                columns_dropped.append(to_drop)\n",
    "                df_one_hot_features.drop(labels=[to_drop], axis=1, inplace=True)\n",
    "                break\n",
    "    sorted_remaining_columns = df_one_hot_features.columns.sort_values()\n",
    "    df_one_hot_features = df_one_hot_features[sorted_remaining_columns]\n",
    "    \n",
    "    with open('remaining_columns.txt', 'w') as f:\n",
    "        for column in sorted_remaining_columns:\n",
    "            f.write('{}\\n'.format(column))\n",
    "        f.close()\n",
    "    \n",
    "    return df_one_hot_features "
   ]
  },
  {
   "cell_type": "code",
   "execution_count": 13,
   "metadata": {},
   "outputs": [],
   "source": [
    "import pickle\n",
    "from sklearn.model_selection import train_test_split \n",
    "from sklearn.naive_bayes import MultinomialNB\n",
    "from sklearn.model_selection import GridSearchCV\n",
    "from sklearn.metrics import confusion_matrix, accuracy_score\n",
    "\n",
    "def train_model(df_one_hot_features, df_one_hot_class):\n",
    "    def reshape_classes(y):\n",
    "        return np.array(y).reshape(len(y))\n",
    "        \n",
    "    X_train, X_test, y_train, y_test = train_test_split(\n",
    "        df_one_hot_features, df_one_hot_class, \n",
    "        test_size=0.2, random_state=42\n",
    "    )\n",
    "    multi_model = MultinomialNB()\n",
    "    params = {'alpha': [1, 0.7, 0.4, 0.1]}\n",
    "\n",
    "    grid = GridSearchCV(multi_model, param_grid=params, scoring='accuracy', cv=4)\n",
    "    grid.fit(X=X_train, y=reshape_classes(y_train))\n",
    "\n",
    "    y_preds = grid.best_estimator_.predict(X_test)\n",
    "    y_trues = reshape_classes(y_test)\n",
    "\n",
    "    #print(accuracy_score(y_pred=y_preds, y_true=y_trues))\n",
    "    #print(confusion_matrix(y_pred=y_preds, y_true=y_trues))\n",
    "    \n",
    "    if accuracy_score(y_pred=y_preds, y_true=y_trues) > 0.9:\n",
    "        #If model is good enough, retrain it on the whole dataset\n",
    "        grid.best_estimator_.fit(X=df_one_hot_features, y=reshape_classes(df_one_hot_class))\n",
    "        pickle.dump(grid.best_estimator_, open('mushroom_model.pkl', 'wb'))\n",
    "    return grid.best_estimator_"
   ]
  },
  {
   "cell_type": "code",
   "execution_count": 14,
   "metadata": {},
   "outputs": [
    {
     "name": "stdout",
     "output_type": "stream",
     "text": [
      "[0, 0, 0, 0, 0, 0, 0, 0, 1, 0, 0, 0, 0, 1, 0, 1, 0, 0, 0, 0, 1, 0, 0, 0, 0, 0, 0, 0, 0, 0, 1, 0, 0, 0, 0, 0, 0, 0, 0, 0, 0, 0, 0, 1, 0, 0, 0, 1, 0, 0, 0, 1, 0, 0, 1, 0, 0, 0, 0, 0, 0, 0, 0, 0, 1, 0, 0, 0, 0, 0, 1, 0, 0, 1, 0, 0, 0, 1, 0, 0, 1, 0, 0, 1, 0]\n"
     ]
    }
   ],
   "source": [
    "if __name__ == '__main__':\n",
    "    df_class, df_features = process_raw_data()\n",
    "    df_features = exclude_correlated_attributes(df_features)\n",
    "    trained_model = train_model(df_features, df_class)\n",
    "    print(list(df_features.iloc[1]))"
   ]
  },
  {
   "cell_type": "code",
   "execution_count": null,
   "metadata": {},
   "outputs": [],
   "source": []
  }
 ],
 "metadata": {
  "kernelspec": {
   "display_name": "Python 3",
   "language": "python",
   "name": "python3"
  },
  "language_info": {
   "codemirror_mode": {
    "name": "ipython",
    "version": 3
   },
   "file_extension": ".py",
   "mimetype": "text/x-python",
   "name": "python",
   "nbconvert_exporter": "python",
   "pygments_lexer": "ipython3",
   "version": "3.7.4"
  }
 },
 "nbformat": 4,
 "nbformat_minor": 4
}
